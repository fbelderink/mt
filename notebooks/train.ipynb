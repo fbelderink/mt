{
  "nbformat": 4,
  "nbformat_minor": 0,
  "metadata": {
    "colab": {
      "provenance": [],
      "gpuType": "T4"
    },
    "kernelspec": {
      "name": "python3",
      "display_name": "Python 3"
    },
    "language_info": {
      "name": "python"
    },
    "accelerator": "GPU"
  },
  "cells": [
    {
      "cell_type": "code",
      "source": [
        "import os"
      ],
      "metadata": {
        "id": "EbRZLZB7_wt6"
      },
      "execution_count": 1,
      "outputs": []
    },
    {
      "cell_type": "code",
      "source": [
        "!cd /content\n",
        "!rm -rf /content/mt"
      ],
      "metadata": {
        "id": "qRm_KULVSc9E"
      },
      "execution_count": 2,
      "outputs": []
    },
    {
      "cell_type": "code",
      "source": [
        "# clone if does not exist\n",
        "if not os.path.isdir('/content/mt'):\n",
        "    !git clone https://github.com/fbelderink/mt.git\n",
        "%cd /content/mt\n",
        "!git pull\n",
        "!git checkout fb/dev\n",
        "!git pull"
      ],
      "metadata": {
        "id": "bP_4kOLwQlUL",
        "outputId": "b3846a57-bb6d-4f7e-d664-7773785290fb",
        "colab": {
          "base_uri": "https://localhost:8080/"
        }
      },
      "execution_count": 5,
      "outputs": [
        {
          "output_type": "stream",
          "name": "stdout",
          "text": [
            "/content/mt\n",
            "remote: Enumerating objects: 37, done.\u001b[K\n",
            "remote: Counting objects: 100% (30/30), done.\u001b[K\n",
            "remote: Compressing objects: 100% (10/10), done.\u001b[K\n",
            "remote: Total 21 (delta 11), reused 21 (delta 11), pack-reused 0\u001b[K\n",
            "Unpacking objects: 100% (21/21), 2.07 KiB | 235.00 KiB/s, done.\n",
            "From https://github.com/fbelderink/mt\n",
            "   c5bd533..b46ba33  fb/dev     -> origin/fb/dev\n",
            "Updating c5bd533..b46ba33\n",
            "Fast-forward\n",
            " assignments/assignment3.py        |  2 \u001b[32m+\u001b[m\u001b[31m-\u001b[m\n",
            " assignments/assignment5.py        | 28 \u001b[31m----------------------------\u001b[m\n",
            " preprocessing/dataset/__init__.py |  1 \u001b[32m+\u001b[m\n",
            " training/train.py                 | 27 \u001b[32m++++++++++++++++++\u001b[m\u001b[31m---------\u001b[m\n",
            " 4 files changed, 20 insertions(+), 38 deletions(-)\n",
            " delete mode 100644 assignments/assignment5.py\n",
            "Already on 'fb/dev'\n",
            "Your branch is up to date with 'origin/fb/dev'.\n",
            "Already up to date.\n"
          ]
        }
      ]
    },
    {
      "cell_type": "code",
      "source": [
        "import training.train as train\n",
        "from utils.hyperparameters.ConfigLoader import ConfigLoader\n",
        "from utils.hyperparameters.model_hyperparameters import FFModelHyperparameters\n",
        "from utils.hyperparameters.train_hyperparameters import FFTrainHyperparameters\n",
        "from google.colab import drive"
      ],
      "metadata": {
        "id": "MHuWvjXRQpop"
      },
      "execution_count": 6,
      "outputs": []
    },
    {
      "cell_type": "code",
      "execution_count": 14,
      "metadata": {
        "colab": {
          "base_uri": "https://localhost:8080/",
          "height": 1000
        },
        "id": "bBQa3KOv9PnM",
        "outputId": "64c75c65-7143-4e26-d199-75260eed94ae"
      },
      "outputs": [
        {
          "output_type": "stream",
          "name": "stdout",
          "text": [
            "Drive already mounted at /content/drive; to attempt to forcibly remount, call drive.mount(\"/content/drive\", force_remount=True).\n",
            "training on cuda:0\n",
            "Number of Batches: 2094\n",
            "Batch Size: 200\n",
            "model name: None\n",
            "total number of trainable parameters: 12099622\n",
            "Layers:\n",
            "source_embedding: Embedding(6797, 150)\n",
            "target_embedding: Embedding(6461, 150)\n",
            "fc_source: LinearLayer()\n",
            "fc_source_bn: BatchNorm1d(600, eps=1e-05, momentum=0.1, affine=True, track_running_stats=True)\n",
            "dropout_source: Dropout(p=0.05, inplace=False)\n",
            "fc_target: LinearLayer()\n",
            "fc_target_bn: BatchNorm1d(600, eps=1e-05, momentum=0.1, affine=True, track_running_stats=True)\n",
            "dropout_target: Dropout(p=0.05, inplace=False)\n",
            "fc1: LinearLayer()\n",
            "fc1_bn: BatchNorm1d(1200, eps=1e-05, momentum=0.1, affine=True, track_running_stats=True)\n",
            "dropout1: Dropout(p=0.05, inplace=False)\n",
            "fc2: LinearLayer()\n",
            "fc2_bn: BatchNorm1d(6461, eps=1e-05, momentum=0.1, affine=True, track_running_stats=True)\n",
            "\n",
            "Starting Training:\n",
            "\n",
            "Epoch 1/100\n",
            "steps: 0, epoch: 1\n",
            "batch metrics: accuracy: 0.0, perplexity: 11452.949553513037, loss: 9.346002578735352\n",
            "\n",
            "validation results: accuracy: 0.17064823513622332, perplexity: 3993.137929257943, loss: 8.292332649230957\n",
            "\n",
            "steps: 400, epoch: 1\n",
            "batch metrics: accuracy: 0.49, perplexity: 24.809625640340588, loss: 3.2112317085266113\n",
            "\n",
            "validation results: accuracy: 0.4822842571466917, perplexity: 29.503125651041657, loss: 3.3844962120056152\n",
            "\n",
            "steps: 800, epoch: 1\n",
            "batch metrics: accuracy: 0.58, perplexity: 15.740136315882303, loss: 2.756213903427124\n",
            "\n",
            "validation results: accuracy: 0.5177157428533082, perplexity: 20.500869119965525, loss: 3.0204672813415527\n",
            "\n",
            "steps: 1200, epoch: 1\n",
            "batch metrics: accuracy: 0.495, perplexity: 26.140888311477667, loss: 3.263500690460205\n",
            "\n",
            "validation results: accuracy: 0.5416722587572138, perplexity: 16.456981241241078, loss: 2.8007497787475586\n",
            "\n",
            "steps: 1600, epoch: 1\n",
            "batch metrics: accuracy: 0.54, perplexity: 15.068524513460902, loss: 2.7126080989837646\n",
            "\n",
            "validation results: accuracy: 0.5523419675211381, perplexity: 14.1575398736375, loss: 2.65024733543396\n",
            "\n",
            "steps: 2000, epoch: 1\n",
            "batch metrics: accuracy: 0.62, perplexity: 8.693386887287637, loss: 2.162562608718872\n",
            "\n",
            "validation results: accuracy: 0.5668366662192994, perplexity: 12.230915555190904, loss: 2.503966808319092\n",
            "\n",
            "\n",
            " saving checkpoint at eval/checkpoints/2024-06-22-None/20_47_18.pth\n",
            "\n",
            "Epoch 2/100\n",
            "steps: 0, epoch: 2\n",
            "batch metrics: accuracy: 0.625, perplexity: 7.7840596549989325, loss: 2.0520780086517334\n",
            "\n",
            "validation results: accuracy: 0.5730103341833311, perplexity: 12.012732864267164, loss: 2.4859671592712402\n",
            "\n"
          ]
        },
        {
          "output_type": "error",
          "ename": "KeyboardInterrupt",
          "evalue": "",
          "traceback": [
            "\u001b[0;31m---------------------------------------------------------------------------\u001b[0m",
            "\u001b[0;31mKeyboardInterrupt\u001b[0m                         Traceback (most recent call last)",
            "\u001b[0;32m<ipython-input-14-a409838e29a9>\u001b[0m in \u001b[0;36m<cell line: 14>\u001b[0;34m()\u001b[0m\n\u001b[1;32m     12\u001b[0m     ConfigLoader(\"configs/training/ff_train_config.yaml\").get_config())\n\u001b[1;32m     13\u001b[0m \u001b[0;34m\u001b[0m\u001b[0m\n\u001b[0;32m---> 14\u001b[0;31m train.train(os.path.join(dataset_dir,f\"train7k_w{window_size}.pt\"),\n\u001b[0m\u001b[1;32m     15\u001b[0m             \u001b[0mos\u001b[0m\u001b[0;34m.\u001b[0m\u001b[0mpath\u001b[0m\u001b[0;34m.\u001b[0m\u001b[0mjoin\u001b[0m\u001b[0;34m(\u001b[0m\u001b[0mdataset_dir\u001b[0m\u001b[0;34m,\u001b[0m\u001b[0;34mf\"val7k_w{window_size}.pt\"\u001b[0m\u001b[0;34m)\u001b[0m\u001b[0;34m,\u001b[0m\u001b[0;34m\u001b[0m\u001b[0;34m\u001b[0m\u001b[0m\n\u001b[1;32m     16\u001b[0m             \u001b[0mmodel_params\u001b[0m\u001b[0;34m,\u001b[0m\u001b[0;34m\u001b[0m\u001b[0;34m\u001b[0m\u001b[0m\n",
            "\u001b[0;32m/content/mt/training/train.py\u001b[0m in \u001b[0;36mtrain\u001b[0;34m(train_path, validation_path, model_params, train_params, model_name)\u001b[0m\n\u001b[1;32m     75\u001b[0m         \u001b[0mprint\u001b[0m\u001b[0;34m(\u001b[0m\u001b[0;34mf\"Epoch {epoch}/{train_params.max_epochs}\"\u001b[0m\u001b[0;34m)\u001b[0m\u001b[0;34m\u001b[0m\u001b[0;34m\u001b[0m\u001b[0m\n\u001b[1;32m     76\u001b[0m \u001b[0;34m\u001b[0m\u001b[0m\n\u001b[0;32m---> 77\u001b[0;31m         total_steps, epoch_loss = train_epoch(model,\n\u001b[0m\u001b[1;32m     78\u001b[0m                                               \u001b[0mtrain_dataloader\u001b[0m\u001b[0;34m,\u001b[0m \u001b[0mvalidation_dataloader\u001b[0m\u001b[0;34m,\u001b[0m\u001b[0;34m\u001b[0m\u001b[0;34m\u001b[0m\u001b[0m\n\u001b[1;32m     79\u001b[0m                                               \u001b[0moptimizers\u001b[0m\u001b[0;34m,\u001b[0m\u001b[0;34m\u001b[0m\u001b[0;34m\u001b[0m\u001b[0m\n",
            "\u001b[0;32m/content/mt/training/train.py\u001b[0m in \u001b[0;36mtrain_epoch\u001b[0;34m(model, train_dataloader, validation_dataloader, optimizers, train_params, epoch_num, total_steps, checkpoint_rate, do_checkpointing)\u001b[0m\n\u001b[1;32m    107\u001b[0m         \u001b[0mpredictions\u001b[0m\u001b[0;34m,\u001b[0m \u001b[0mloss\u001b[0m \u001b[0;34m=\u001b[0m \u001b[0mforward_pass\u001b[0m\u001b[0;34m(\u001b[0m\u001b[0mmodel\u001b[0m\u001b[0;34m,\u001b[0m \u001b[0mS\u001b[0m\u001b[0;34m,\u001b[0m \u001b[0mT\u001b[0m\u001b[0;34m,\u001b[0m \u001b[0mL\u001b[0m\u001b[0;34m,\u001b[0m \u001b[0mtrain_params\u001b[0m\u001b[0;34m)\u001b[0m\u001b[0;34m\u001b[0m\u001b[0;34m\u001b[0m\u001b[0m\n\u001b[1;32m    108\u001b[0m \u001b[0;34m\u001b[0m\u001b[0m\n\u001b[0;32m--> 109\u001b[0;31m         \u001b[0mloss\u001b[0m\u001b[0;34m.\u001b[0m\u001b[0mbackward\u001b[0m\u001b[0;34m(\u001b[0m\u001b[0;34m)\u001b[0m\u001b[0;34m\u001b[0m\u001b[0;34m\u001b[0m\u001b[0m\n\u001b[0m\u001b[1;32m    110\u001b[0m \u001b[0;34m\u001b[0m\u001b[0m\n\u001b[1;32m    111\u001b[0m         \u001b[0;32mfor\u001b[0m \u001b[0moptimizer\u001b[0m \u001b[0;32min\u001b[0m \u001b[0moptimizers\u001b[0m\u001b[0;34m:\u001b[0m\u001b[0;34m\u001b[0m\u001b[0;34m\u001b[0m\u001b[0m\n",
            "\u001b[0;32m/usr/local/lib/python3.10/dist-packages/torch/_tensor.py\u001b[0m in \u001b[0;36mbackward\u001b[0;34m(self, gradient, retain_graph, create_graph, inputs)\u001b[0m\n\u001b[1;32m    523\u001b[0m                 \u001b[0minputs\u001b[0m\u001b[0;34m=\u001b[0m\u001b[0minputs\u001b[0m\u001b[0;34m,\u001b[0m\u001b[0;34m\u001b[0m\u001b[0;34m\u001b[0m\u001b[0m\n\u001b[1;32m    524\u001b[0m             )\n\u001b[0;32m--> 525\u001b[0;31m         torch.autograd.backward(\n\u001b[0m\u001b[1;32m    526\u001b[0m             \u001b[0mself\u001b[0m\u001b[0;34m,\u001b[0m \u001b[0mgradient\u001b[0m\u001b[0;34m,\u001b[0m \u001b[0mretain_graph\u001b[0m\u001b[0;34m,\u001b[0m \u001b[0mcreate_graph\u001b[0m\u001b[0;34m,\u001b[0m \u001b[0minputs\u001b[0m\u001b[0;34m=\u001b[0m\u001b[0minputs\u001b[0m\u001b[0;34m\u001b[0m\u001b[0;34m\u001b[0m\u001b[0m\n\u001b[1;32m    527\u001b[0m         )\n",
            "\u001b[0;32m/usr/local/lib/python3.10/dist-packages/torch/autograd/__init__.py\u001b[0m in \u001b[0;36mbackward\u001b[0;34m(tensors, grad_tensors, retain_graph, create_graph, grad_variables, inputs)\u001b[0m\n\u001b[1;32m    265\u001b[0m     \u001b[0;31m# some Python versions print out the first line of a multi-line function\u001b[0m\u001b[0;34m\u001b[0m\u001b[0;34m\u001b[0m\u001b[0m\n\u001b[1;32m    266\u001b[0m     \u001b[0;31m# calls in the traceback and some print out the last line\u001b[0m\u001b[0;34m\u001b[0m\u001b[0;34m\u001b[0m\u001b[0m\n\u001b[0;32m--> 267\u001b[0;31m     _engine_run_backward(\n\u001b[0m\u001b[1;32m    268\u001b[0m         \u001b[0mtensors\u001b[0m\u001b[0;34m,\u001b[0m\u001b[0;34m\u001b[0m\u001b[0;34m\u001b[0m\u001b[0m\n\u001b[1;32m    269\u001b[0m         \u001b[0mgrad_tensors_\u001b[0m\u001b[0;34m,\u001b[0m\u001b[0;34m\u001b[0m\u001b[0;34m\u001b[0m\u001b[0m\n",
            "\u001b[0;32m/usr/local/lib/python3.10/dist-packages/torch/autograd/graph.py\u001b[0m in \u001b[0;36m_engine_run_backward\u001b[0;34m(t_outputs, *args, **kwargs)\u001b[0m\n\u001b[1;32m    742\u001b[0m         \u001b[0munregister_hooks\u001b[0m \u001b[0;34m=\u001b[0m \u001b[0m_register_logging_hooks_on_whole_graph\u001b[0m\u001b[0;34m(\u001b[0m\u001b[0mt_outputs\u001b[0m\u001b[0;34m)\u001b[0m\u001b[0;34m\u001b[0m\u001b[0;34m\u001b[0m\u001b[0m\n\u001b[1;32m    743\u001b[0m     \u001b[0;32mtry\u001b[0m\u001b[0;34m:\u001b[0m\u001b[0;34m\u001b[0m\u001b[0;34m\u001b[0m\u001b[0m\n\u001b[0;32m--> 744\u001b[0;31m         return Variable._execution_engine.run_backward(  # Calls into the C++ engine to run the backward pass\n\u001b[0m\u001b[1;32m    745\u001b[0m             \u001b[0mt_outputs\u001b[0m\u001b[0;34m,\u001b[0m \u001b[0;34m*\u001b[0m\u001b[0margs\u001b[0m\u001b[0;34m,\u001b[0m \u001b[0;34m**\u001b[0m\u001b[0mkwargs\u001b[0m\u001b[0;34m\u001b[0m\u001b[0;34m\u001b[0m\u001b[0m\n\u001b[1;32m    746\u001b[0m         )  # Calls into the C++ engine to run the backward pass\n",
            "\u001b[0;31mKeyboardInterrupt\u001b[0m: "
          ]
        }
      ],
      "source": [
        "drive_dir = '/content/drive'\n",
        "drive.mount(drive_dir)\n",
        "\n",
        "dataset_dir = os.path.join(drive_dir,'MyDrive/data/mt')\n",
        "\n",
        "window_size = 3\n",
        "\n",
        "model_params = FFModelHyperparameters(\n",
        "    ConfigLoader(\"configs/ff/config.yaml\").get_config())\n",
        "\n",
        "train_params = FFTrainHyperparameters(\n",
        "    ConfigLoader(\"configs/training/ff_train_config.yaml\").get_config())\n",
        "\n",
        "train.train(os.path.join(dataset_dir,f\"train7k_w{window_size}.pt\"),\n",
        "            os.path.join(dataset_dir,f\"val7k_w{window_size}.pt\"),\n",
        "            model_params,\n",
        "            train_params)"
      ]
    },
    {
      "cell_type": "code",
      "source": [
        "from datetime import datetime\n",
        "date = datetime.today().strftime('%d-%m-%Y')"
      ],
      "metadata": {
        "id": "s8hT1NbQFvuu"
      },
      "execution_count": null,
      "outputs": []
    },
    {
      "cell_type": "code",
      "source": [
        "import torch\n",
        "from assignments.assignment4 import *\n",
        "from utils.file_manipulation import load_data\n",
        "from preprocessing.dictionary import Dictionary\n",
        "\n",
        "eval_all = True\n",
        "\n",
        "data_de = load_data(\"data/raw/multi30k.dev.de\")\n",
        "data_en = load_data(\"data/raw/multi30k.dev.en\")\n",
        "\n",
        "dict_de = Dictionary.load(os.path.join(dataset_dir, \"dicts/train_dict_de.pkl\"))\n",
        "dict_en = Dictionary.load(os.path.join(dataset_dir, \"dicts/train_dict_en.pkl\"))\n",
        "\n",
        "if eval_all:\n",
        "  determine_models_bleu(f\"eval/checkpoints/{date}\", data_de, data_en,\n",
        "                      dict_de, dict_en, 3,\n",
        "                      model_hyperparameters.window_size, True)\n",
        "else:\n",
        "  model = torch.load(f\"eval/checkpoints/{date}/15_01_58.pth\")\n",
        "  test_model_bleu(model, data_de, data_en, dict_de, dict_en,\n",
        "                 3, model_hyperparameters.window_size, True, None)\n"
      ],
      "metadata": {
        "id": "KBi_wD3fHwbR",
        "outputId": "9546a400-9ba9-4701-aab4-03cccf8abe30",
        "colab": {
          "base_uri": "https://localhost:8080/"
        }
      },
      "execution_count": null,
      "outputs": [
        {
          "output_type": "stream",
          "name": "stdout",
          "text": [
            "determine bleu of eval/checkpoints/13-06-2024/15_01_58.pth\n",
            "Model BLEU: 0.2742871839806815\n",
            "determine bleu of eval/checkpoints/13-06-2024/15_01_19.pth\n",
            "Model BLEU: 0.2777224360095151\n",
            "determine bleu of eval/checkpoints/13-06-2024/15_00_05.pth\n",
            "Model BLEU: 0.2504418786978578\n",
            "determine bleu of eval/checkpoints/13-06-2024/15_00_42.pth\n",
            "Model BLEU: 0.2716663025217683\n",
            "determine bleu of eval/checkpoints/13-06-2024/14_59_27.pth\n",
            "Model BLEU: 0.21416791624619436\n"
          ]
        }
      ]
    },
    {
      "cell_type": "code",
      "source": [
        "!zip -r {dataset_dir}/checkpoints.zip eval/checkpoints/{date}/"
      ],
      "metadata": {
        "id": "iNigHQytLeRS",
        "outputId": "b7bf6a19-e87c-40e4-c252-5efda1e23c2b",
        "colab": {
          "base_uri": "https://localhost:8080/"
        }
      },
      "execution_count": null,
      "outputs": [
        {
          "output_type": "stream",
          "name": "stdout",
          "text": [
            "  adding: eval/checkpoints/13-06-2024/ (stored 0%)\n",
            "  adding: eval/checkpoints/13-06-2024/15_01_58.pth (deflated 7%)\n",
            "  adding: eval/checkpoints/13-06-2024/15_01_19.pth (deflated 7%)\n",
            "  adding: eval/checkpoints/13-06-2024/15_00_05.pth (deflated 7%)\n",
            "  adding: eval/checkpoints/13-06-2024/15_00_42.pth (deflated 7%)\n",
            "  adding: eval/checkpoints/13-06-2024/14_59_27.pth (deflated 8%)\n"
          ]
        }
      ]
    },
    {
      "cell_type": "code",
      "source": [
        "!rm -rf eval/checkpoints/{date}"
      ],
      "metadata": {
        "id": "j4mm-_euCzvv"
      },
      "execution_count": null,
      "outputs": []
    }
  ]
}